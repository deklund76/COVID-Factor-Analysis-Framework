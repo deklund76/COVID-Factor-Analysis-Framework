{
 "cells": [
  {
   "cell_type": "code",
   "execution_count": 1,
   "id": "97d74b70",
   "metadata": {},
   "outputs": [],
   "source": [
    "from splinter import Browser\n",
    "from bs4 import BeautifulSoup as bs\n",
    "from webdriver_manager.chrome import ChromeDriverManager\n",
    "import time\n",
    "import pandas as pd\n",
    "import epiweeks"
   ]
  },
  {
   "cell_type": "code",
   "execution_count": 2,
   "id": "557ae2ad",
   "metadata": {},
   "outputs": [
    {
     "name": "stderr",
     "output_type": "stream",
     "text": [
      "\n",
      "\n",
      "====== WebDriver manager ======\n",
      "Current google-chrome version is 96.0.4664\n",
      "Get LATEST driver version for 96.0.4664\n",
      "Driver [C:\\Users\\Drew\\.wdm\\drivers\\chromedriver\\win32\\96.0.4664.45\\chromedriver.exe] found in cache\n"
     ]
    }
   ],
   "source": [
    "# Initialize Browser\n",
    "executable_path = {\"executable_path\": ChromeDriverManager().install()}\n",
    "browser = Browser(\"chrome\", **executable_path, headless=False)"
   ]
  },
  {
   "cell_type": "code",
   "execution_count": 3,
   "id": "35e63fa0",
   "metadata": {},
   "outputs": [],
   "source": [
    "# Visit gender data source url\n",
    "url = \"https://docs.google.com/spreadsheets/d/e/2PACX-1vTLO0Kf-G8sP1If_Fhj5GapXHSchZ3OwLJmGq6fF2h9-gE8rHrNxyhD_nm4Oa4YicmhtZ3MLcBoQxbH/pubhtml?wmode=opaque#\"\n",
    "browser.visit(url)\n",
    "\n",
    "time.sleep(1)"
   ]
  },
  {
   "cell_type": "code",
   "execution_count": 4,
   "id": "c43b2762",
   "metadata": {},
   "outputs": [],
   "source": [
    "# Initialize column list\n",
    "columns = ['location','date','cases_total','male_cases',\n",
    "           'female_cases','percent_male_cases',\n",
    "           'percent_female_cases','male_case_rate',\n",
    "           'female_case_rate','deaths_total','male_deaths',\n",
    "           'female_deaths','percent_male_deaths',\n",
    "           'percent_female_deaths','male_death_rate',\n",
    "           'female_death_rate']"
   ]
  },
  {
   "cell_type": "code",
   "execution_count": 7,
   "id": "651a157c",
   "metadata": {},
   "outputs": [],
   "source": [
    "# Scrape site and return a dataframe with the displayed week's data\n",
    "def scrape_weekly_data():\n",
    "    \n",
    "    # Scrap into soup\n",
    "    html = browser.html\n",
    "    soup = bs(html, \"html.parser\")\n",
    "    \n",
    "    displayed_table = soup.find('div', style='position: relative;')\n",
    "    \n",
    "    # Initialize week's dataframe\n",
    "    week_df = pd.DataFrame(columns=columns)\n",
    "    \n",
    "    # Traverse rows 5-57 containing data cells\n",
    "    for row_index in range(5,58):\n",
    "        row = displayed_table.find('div', text=row_index).parent.parent\n",
    "        \n",
    "        # Get data from relevant cells\n",
    "        cells = row.find_all('td')[0:16]\n",
    "        \n",
    "        # Add row to week table list\n",
    "        week_df.loc[len(week_df)] = cells\n",
    "    \n",
    "    return week_df"
   ]
  },
  {
   "cell_type": "code",
   "execution_count": 8,
   "id": "7ef8cb98",
   "metadata": {},
   "outputs": [],
   "source": [
    "week_buttons = browser.find_by_tag('ul').first.find_by_tag('li')\n",
    "\n",
    "# Create blank csv file with headers\n",
    "init_df = pd.DataFrame(columns=columns)\n",
    "init_df.to_csv('gender_data_raw.csv', index=False)\n",
    "\n",
    "for button in week_buttons[0:2]:\n",
    "    button.click()\n",
    "    #week_df_list = week_df_list + scrape_weekly_data()\n",
    "    week_df = scrape_weekly_data()\n",
    "    week_df.to_csv('gender_data_raw.csv', mode='a', index=False, header=False)"
   ]
  },
  {
   "cell_type": "code",
   "execution_count": null,
   "id": "b195bdbd",
   "metadata": {},
   "outputs": [],
   "source": []
  }
 ],
 "metadata": {
  "kernelspec": {
   "display_name": "Python 3",
   "language": "python",
   "name": "python3"
  },
  "language_info": {
   "codemirror_mode": {
    "name": "ipython",
    "version": 3
   },
   "file_extension": ".py",
   "mimetype": "text/x-python",
   "name": "python",
   "nbconvert_exporter": "python",
   "pygments_lexer": "ipython3",
   "version": "3.8.8"
  }
 },
 "nbformat": 4,
 "nbformat_minor": 5
}
